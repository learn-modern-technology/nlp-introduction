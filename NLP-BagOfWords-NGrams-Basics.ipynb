{
 "cells": [
  {
   "cell_type": "code",
   "execution_count": 1,
   "id": "ff9ec4e0",
   "metadata": {},
   "outputs": [],
   "source": [
    "import re\n",
    "from wordcloud import WordCloud\n",
    "import nltk\n",
    "from nltk.corpus import stopwords\n",
    "from sklearn.feature_extraction.text import CountVectorizer\n",
    "import random"
   ]
  },
  {
   "cell_type": "code",
   "execution_count": 2,
   "id": "7375966f",
   "metadata": {},
   "outputs": [],
   "source": [
    "# Setting up stopwords for Text Processing\n",
    "stopwords_list = set(stopwords.words('english'))\n",
    "\n",
    "#Custom Stoplist\n",
    "custome_stopwords= [\"i\",\"project\",\"living\",\"home\",'apartment',\"pune\",\"me\",\"my\",\"myself\",\"we\",\"our\",\"ours\",\"ourselves\",\"you\",\n",
    "                  \"you're\",\"you've\",\"you'll\",\"you'd\",\"your\",\"yours\",\"yourself\",\"yourselves\",\"he\",\"him\",\"his\",\"himself\",\"she\",\n",
    "                  \"she's\",\"her\",\"hers\",\"herself\",\"it\",\"it's\",\"its\",\"itself\",\"they\",\"them\",\"their\",\"theirs\",\"themselves\",\n",
    "                  \"what\",\"which\",\"who\",\"whom\",\"this\",\"that\",\"that'll\",\"these\",\"those\",\"am\",\"is\",\"are\",\"was\",\"were\",\"be\",\"been\",\n",
    "                  \"being\",\"have\",\"has\",\"had\",\"having\",\"do\",\"does\",\"did\",\"doing\",\"a\",\"an\",\"the\",\"and\",\"but\",\"if\",\"or\",\"because\",\n",
    "                  \"as\",\"until\",\"while\",\"of\",\"at\",\"by\",\"for\",\"with\",\"about\",\"against\",\"between\",\"into\",\"through\",\"during\",\n",
    "                  \"before\",\"after\",\"above\",\"below\",\"to\",\"from\",\"up\",\"down\",\"in\",\"out\",\"on\",\"off\",\"over\",\"under\",\"again\",\n",
    "                  \"further\",\"then\",\"once\",\"here\",\"there\",\"when\",\"where\",\"why\",\"all\",\"any\",\"both\",\"each\",\"few\",\"more\",\"most\",\n",
    "                  \"other\",\"some\",\"such\",\"no\",\"nor\",\"not\",\"only\",\"own\",\"same\",\"so\",\"than\",\"too\",\"very\",\"s\",\"t\",\"can\",\"will\",\n",
    "                  \"just\",\"don\",\"don't\",\"should\",\"should've\",\"now\",\"d\",\"ll\",\"m\",\"o\",\"re\",\"ve\",\"y\",\"ain\",\n",
    "                  \"aren\",\"couldn\",\"didn\",\"doesn\",\"hadn\",\"hasn\",\"haven\",\"isn\",\"ma\",\"mightn\",\"mustn\",\"needn\",\"shan\",\"shan't\",\n",
    "                  \"shouldn\",\"wasn\",\"weren\",\"won\",\"rt\",\"rt\",\"qt\",\"for\",\"the\",\"with\",\"in\",\"of\",\"and\",\"its\",\"it\",\"this\",\"i\",\n",
    "                  \"have\",\"has\",\"would\",\"could\",\"you\",\"a\",\"an\",\"be\",\"am\",\"can\",\"edushopper\",\"will\",\"to\",\"on\",\"is\",\"by\",\"ive\",\n",
    "                  \"im\",\"your\",\"we\",\"are\",\"at\",\"as\",\"any\",\"ebay\",\"thank\",\"hello\",\"know\",\"need\",\"want\",\"look\",\"hi\",\"sorry\",\n",
    "                  \"http\", \"https\",\"body\",\"dear\",\"hello\",\"hi\",\"thanks\",\"sir\",\"tomorrow\",\"sent\",\"send\",\"see\",\"there\",\"welcome\",\n",
    "                  \"what\",\"well\",\"us\"]\n",
    "\n",
    "stopwords_list.update(custome_stopwords)"
   ]
  },
  {
   "cell_type": "code",
   "execution_count": 3,
   "id": "665de93b",
   "metadata": {},
   "outputs": [],
   "source": [
    "text = 'shapoorji paloonji comunity located suburbs bavadhan locality situated. pleasant environment around bhk property comes swimming pool parking facilty. community also comes temples churches near devotional purposes. vanaha township located near lonavala hill range offers greenery filled environment friendly community comes bhk furnished affordable price .vanaha society suitable aged group people playareafor kids woodland teen park. elderly person find serenity. community also offers clubhouse gym facilities. vanaha township offering bhk grand prpoerties bavdhan area. newly launched podium level amenities speak language great design functionality area hub. prestigious schools like bishop high school vibgyor intl school boston world school. also offers quick access important highways bengaluru solapur mumbai expressway strategically located mahalunge quaint nature loving yet connected suburb godrej hills retreat welcomes experience height high boasts elegant towers stories offering bedroom balewadi quality specification great community form amenities like equipped clubhouse landscape garden boasts elegant towers stories offering bedroom balewadi quality specification great community form amenities like swimming pools club house gym urban space creator bhk flats. ravet new residential construction nestled amongst reputed eon ravet parks world class amanora seasons malls offers flats sale ravet one top residential hubs connected parts pimpri talegaon areas like aundh wakad saudagar etc. also easily accessible region newly launched podium level amenities speak language great design functionality township nestled intersection. three major routes viz old nh highway katraj dehu road mumbai expressway located north western surrounded natural greens gets ample fresh air. also offers many temples churches nearby. religious activities done also comes package swimming pools gym etc. urban space creator amongst best using modern technology construction superstructure called alu form system wherein.'"
   ]
  },
  {
   "cell_type": "code",
   "execution_count": 4,
   "id": "6e12d365",
   "metadata": {},
   "outputs": [],
   "source": [
    "sent_token = nltk.sent_tokenize(text)"
   ]
  },
  {
   "cell_type": "code",
   "execution_count": 5,
   "id": "1d891909",
   "metadata": {},
   "outputs": [
    {
     "data": {
      "text/plain": [
       "16"
      ]
     },
     "execution_count": 5,
     "metadata": {},
     "output_type": "execute_result"
    }
   ],
   "source": [
    "len(sent_token)"
   ]
  },
  {
   "cell_type": "code",
   "execution_count": 6,
   "id": "fd2c6897",
   "metadata": {},
   "outputs": [
    {
     "data": {
      "text/plain": [
       "['shapoorji paloonji comunity located suburbs bavadhan locality situated.',\n",
       " 'pleasant environment around bhk property comes swimming pool parking facilty.',\n",
       " 'community also comes temples churches near devotional purposes.',\n",
       " 'vanaha township located near lonavala hill range offers greenery filled environment friendly community comes bhk furnished affordable price .vanaha society suitable aged group people playareafor kids woodland teen park.',\n",
       " 'elderly person find serenity.',\n",
       " 'community also offers clubhouse gym facilities.',\n",
       " 'vanaha township offering bhk grand prpoerties bavdhan area.',\n",
       " 'newly launched podium level amenities speak language great design functionality area hub.',\n",
       " 'prestigious schools like bishop high school vibgyor intl school boston world school.',\n",
       " 'also offers quick access important highways bengaluru solapur mumbai expressway strategically located mahalunge quaint nature loving yet connected suburb godrej hills retreat welcomes experience height high boasts elegant towers stories offering bedroom balewadi quality specification great community form amenities like equipped clubhouse landscape garden boasts elegant towers stories offering bedroom balewadi quality specification great community form amenities like swimming pools club house gym urban space creator bhk flats.',\n",
       " 'ravet new residential construction nestled amongst reputed eon ravet parks world class amanora seasons malls offers flats sale ravet one top residential hubs connected parts pimpri talegaon areas like aundh wakad saudagar etc.',\n",
       " 'also easily accessible region newly launched podium level amenities speak language great design functionality township nestled intersection.',\n",
       " 'three major routes viz old nh highway katraj dehu road mumbai expressway located north western surrounded natural greens gets ample fresh air.',\n",
       " 'also offers many temples churches nearby.',\n",
       " 'religious activities done also comes package swimming pools gym etc.',\n",
       " 'urban space creator amongst best using modern technology construction superstructure called alu form system wherein.']"
      ]
     },
     "execution_count": 6,
     "metadata": {},
     "output_type": "execute_result"
    }
   ],
   "source": [
    "sent_token"
   ]
  },
  {
   "cell_type": "code",
   "execution_count": 7,
   "id": "0bfc4df3",
   "metadata": {},
   "outputs": [
    {
     "data": {
      "text/plain": [
       "'also easily accessible region newly launched podium level amenities speak language great design functionality township nestled intersection.'"
      ]
     },
     "execution_count": 7,
     "metadata": {},
     "output_type": "execute_result"
    }
   ],
   "source": [
    "sent_token[11]"
   ]
  },
  {
   "cell_type": "markdown",
   "id": "da81ef7d",
   "metadata": {},
   "source": [
    "### Bag Of Words with Binary"
   ]
  },
  {
   "cell_type": "code",
   "execution_count": 8,
   "id": "ff1f1793",
   "metadata": {},
   "outputs": [],
   "source": [
    "from sklearn.feature_extraction.text import CountVectorizer\n",
    "\n",
    "vectorc = CountVectorizer(binary=True, min_df=2)\n",
    "X = vectorc.fit_transform(sent_token)"
   ]
  },
  {
   "cell_type": "code",
   "execution_count": 9,
   "id": "bb9fef92",
   "metadata": {},
   "outputs": [
    {
     "data": {
      "text/plain": [
       "(16, 43)"
      ]
     },
     "execution_count": 9,
     "metadata": {},
     "output_type": "execute_result"
    }
   ],
   "source": [
    "X.shape"
   ]
  },
  {
   "cell_type": "code",
   "execution_count": 10,
   "id": "daae5891",
   "metadata": {},
   "outputs": [
    {
     "data": {
      "text/plain": [
       "{'located': 26,\n",
       " 'environment': 13,\n",
       " 'bhk': 4,\n",
       " 'comes': 7,\n",
       " 'swimming': 37,\n",
       " 'community': 8,\n",
       " 'also': 0,\n",
       " 'temples': 38,\n",
       " 'churches': 5,\n",
       " 'near': 28,\n",
       " 'vanaha': 41,\n",
       " 'township': 39,\n",
       " 'offers': 32,\n",
       " 'clubhouse': 6,\n",
       " 'gym': 20,\n",
       " 'offering': 31,\n",
       " 'area': 3,\n",
       " 'newly': 30,\n",
       " 'launched': 23,\n",
       " 'podium': 33,\n",
       " 'level': 24,\n",
       " 'amenities': 1,\n",
       " 'speak': 36,\n",
       " 'language': 22,\n",
       " 'great': 19,\n",
       " 'design': 12,\n",
       " 'functionality': 18,\n",
       " 'like': 25,\n",
       " 'high': 21,\n",
       " 'world': 42,\n",
       " 'mumbai': 27,\n",
       " 'expressway': 15,\n",
       " 'connected': 9,\n",
       " 'form': 17,\n",
       " 'pools': 34,\n",
       " 'urban': 40,\n",
       " 'space': 35,\n",
       " 'creator': 11,\n",
       " 'flats': 16,\n",
       " 'construction': 10,\n",
       " 'nestled': 29,\n",
       " 'amongst': 2,\n",
       " 'etc': 14}"
      ]
     },
     "execution_count": 10,
     "metadata": {},
     "output_type": "execute_result"
    }
   ],
   "source": [
    "vectorc.vocabulary_"
   ]
  },
  {
   "cell_type": "code",
   "execution_count": 11,
   "id": "4897e654",
   "metadata": {},
   "outputs": [
    {
     "data": {
      "text/plain": [
       "scipy.sparse._csr.csr_matrix"
      ]
     },
     "execution_count": 11,
     "metadata": {},
     "output_type": "execute_result"
    }
   ],
   "source": [
    "type(X)"
   ]
  },
  {
   "cell_type": "code",
   "execution_count": 12,
   "id": "dd8deeff",
   "metadata": {},
   "outputs": [
    {
     "data": {
      "text/plain": [
       "(16, 43)"
      ]
     },
     "execution_count": 12,
     "metadata": {},
     "output_type": "execute_result"
    }
   ],
   "source": [
    "X_array = X.toarray()\n",
    "X_array.shape"
   ]
  },
  {
   "cell_type": "code",
   "execution_count": 13,
   "id": "75324c98",
   "metadata": {},
   "outputs": [
    {
     "data": {
      "text/plain": [
       "array([1, 1, 0, 0, 0, 0, 0, 0, 0, 0, 0, 0, 1, 0, 0, 0, 0, 0, 1, 1, 0, 0,\n",
       "       1, 1, 1, 0, 0, 0, 0, 1, 1, 0, 0, 1, 0, 0, 1, 0, 0, 1, 0, 0, 0],\n",
       "      dtype=int64)"
      ]
     },
     "execution_count": 13,
     "metadata": {},
     "output_type": "execute_result"
    }
   ],
   "source": [
    "X_array[11,:]"
   ]
  },
  {
   "cell_type": "code",
   "execution_count": 14,
   "id": "55334b5f",
   "metadata": {},
   "outputs": [
    {
     "data": {
      "text/plain": [
       "array(['also', 'amenities', 'amongst', 'area', 'bhk', 'churches',\n",
       "       'clubhouse', 'comes', 'community', 'connected', 'construction',\n",
       "       'creator', 'design', 'environment', 'etc', 'expressway', 'flats',\n",
       "       'form', 'functionality', 'great', 'gym', 'high', 'language',\n",
       "       'launched', 'level', 'like', 'located', 'mumbai', 'near',\n",
       "       'nestled', 'newly', 'offering', 'offers', 'podium', 'pools',\n",
       "       'space', 'speak', 'swimming', 'temples', 'township', 'urban',\n",
       "       'vanaha', 'world'], dtype=object)"
      ]
     },
     "execution_count": 14,
     "metadata": {},
     "output_type": "execute_result"
    }
   ],
   "source": [
    "vectorc.get_feature_names_out()"
   ]
  },
  {
   "cell_type": "code",
   "execution_count": 15,
   "id": "6b4b7cf4",
   "metadata": {},
   "outputs": [
    {
     "data": {
      "text/plain": [
       "1"
      ]
     },
     "execution_count": 15,
     "metadata": {},
     "output_type": "execute_result"
    }
   ],
   "source": [
    "X_array[11,1]"
   ]
  },
  {
   "cell_type": "markdown",
   "id": "d5c4bee2",
   "metadata": {},
   "source": []
  },
  {
   "cell_type": "markdown",
   "id": "042990e6",
   "metadata": {},
   "source": [
    "### Bag of Words without Binary"
   ]
  },
  {
   "cell_type": "code",
   "execution_count": 16,
   "id": "2548af44",
   "metadata": {},
   "outputs": [],
   "source": [
    "from sklearn.feature_extraction.text import CountVectorizer\n",
    "nb_vectorc = CountVectorizer(min_df=2)\n",
    "X_nb = nb_vectorc.fit_transform(sent_token)"
   ]
  },
  {
   "cell_type": "code",
   "execution_count": 17,
   "id": "d765054a",
   "metadata": {},
   "outputs": [
    {
     "data": {
      "text/plain": [
       "(16, 43)"
      ]
     },
     "execution_count": 17,
     "metadata": {},
     "output_type": "execute_result"
    }
   ],
   "source": [
    "X_nb.shape"
   ]
  },
  {
   "cell_type": "code",
   "execution_count": 18,
   "id": "1b484629",
   "metadata": {},
   "outputs": [
    {
     "data": {
      "text/plain": [
       "{'located': 26,\n",
       " 'environment': 13,\n",
       " 'bhk': 4,\n",
       " 'comes': 7,\n",
       " 'swimming': 37,\n",
       " 'community': 8,\n",
       " 'also': 0,\n",
       " 'temples': 38,\n",
       " 'churches': 5,\n",
       " 'near': 28,\n",
       " 'vanaha': 41,\n",
       " 'township': 39,\n",
       " 'offers': 32,\n",
       " 'clubhouse': 6,\n",
       " 'gym': 20,\n",
       " 'offering': 31,\n",
       " 'area': 3,\n",
       " 'newly': 30,\n",
       " 'launched': 23,\n",
       " 'podium': 33,\n",
       " 'level': 24,\n",
       " 'amenities': 1,\n",
       " 'speak': 36,\n",
       " 'language': 22,\n",
       " 'great': 19,\n",
       " 'design': 12,\n",
       " 'functionality': 18,\n",
       " 'like': 25,\n",
       " 'high': 21,\n",
       " 'world': 42,\n",
       " 'mumbai': 27,\n",
       " 'expressway': 15,\n",
       " 'connected': 9,\n",
       " 'form': 17,\n",
       " 'pools': 34,\n",
       " 'urban': 40,\n",
       " 'space': 35,\n",
       " 'creator': 11,\n",
       " 'flats': 16,\n",
       " 'construction': 10,\n",
       " 'nestled': 29,\n",
       " 'amongst': 2,\n",
       " 'etc': 14}"
      ]
     },
     "execution_count": 18,
     "metadata": {},
     "output_type": "execute_result"
    }
   ],
   "source": [
    "nb_vectorc.vocabulary_"
   ]
  },
  {
   "cell_type": "code",
   "execution_count": 19,
   "id": "523f612c",
   "metadata": {},
   "outputs": [
    {
     "data": {
      "text/plain": [
       "(16, 43)"
      ]
     },
     "execution_count": 19,
     "metadata": {},
     "output_type": "execute_result"
    }
   ],
   "source": [
    "X_nb_array= X_nb.toarray()\n",
    "X_nb_array.shape"
   ]
  },
  {
   "cell_type": "code",
   "execution_count": 20,
   "id": "1208d25b",
   "metadata": {},
   "outputs": [
    {
     "data": {
      "text/plain": [
       "array([1, 1, 0, 0, 0, 0, 0, 0, 0, 0, 0, 0, 1, 0, 0, 0, 0, 0, 1, 1, 0, 0,\n",
       "       1, 1, 1, 0, 0, 0, 0, 1, 1, 0, 0, 1, 0, 0, 1, 0, 0, 1, 0, 0, 0],\n",
       "      dtype=int64)"
      ]
     },
     "execution_count": 20,
     "metadata": {},
     "output_type": "execute_result"
    }
   ],
   "source": [
    "X_nb_array[11]"
   ]
  },
  {
   "cell_type": "code",
   "execution_count": 21,
   "id": "6b5fc17b",
   "metadata": {},
   "outputs": [
    {
     "data": {
      "text/plain": [
       "array(['also', 'amenities', 'amongst', 'area', 'bhk', 'churches',\n",
       "       'clubhouse', 'comes', 'community', 'connected', 'construction',\n",
       "       'creator', 'design', 'environment', 'etc', 'expressway', 'flats',\n",
       "       'form', 'functionality', 'great', 'gym', 'high', 'language',\n",
       "       'launched', 'level', 'like', 'located', 'mumbai', 'near',\n",
       "       'nestled', 'newly', 'offering', 'offers', 'podium', 'pools',\n",
       "       'space', 'speak', 'swimming', 'temples', 'township', 'urban',\n",
       "       'vanaha', 'world'], dtype=object)"
      ]
     },
     "execution_count": 21,
     "metadata": {},
     "output_type": "execute_result"
    }
   ],
   "source": [
    "nb_vectorc.get_feature_names_out()"
   ]
  },
  {
   "cell_type": "markdown",
   "id": "d8b205e4",
   "metadata": {},
   "source": [
    "### Bag of N-grams"
   ]
  },
  {
   "cell_type": "code",
   "execution_count": 22,
   "id": "e4dd2e20",
   "metadata": {},
   "outputs": [],
   "source": [
    "from sklearn.feature_extraction.text import CountVectorizer\n",
    "ngram_vectorc = CountVectorizer(min_df=2, ngram_range=(1,3))\n",
    "ngram_X = ngram_vectorc.fit_transform(sent_token)"
   ]
  },
  {
   "cell_type": "code",
   "execution_count": 23,
   "id": "ff141c45",
   "metadata": {
    "scrolled": true
   },
   "outputs": [
    {
     "data": {
      "text/plain": [
       "{'located': 40,\n",
       " 'environment': 19,\n",
       " 'bhk': 8,\n",
       " 'comes': 11,\n",
       " 'swimming': 59,\n",
       " 'community': 12,\n",
       " 'also': 0,\n",
       " 'temples': 61,\n",
       " 'churches': 9,\n",
       " 'near': 43,\n",
       " 'community also': 13,\n",
       " 'also comes': 1,\n",
       " 'temples churches': 62,\n",
       " 'vanaha': 67,\n",
       " 'township': 63,\n",
       " 'offers': 49,\n",
       " 'vanaha township': 68,\n",
       " 'clubhouse': 10,\n",
       " 'gym': 28,\n",
       " 'also offers': 2,\n",
       " 'offering': 48,\n",
       " 'area': 7,\n",
       " 'newly': 45,\n",
       " 'launched': 33,\n",
       " 'podium': 50,\n",
       " 'level': 36,\n",
       " 'amenities': 3,\n",
       " 'speak': 56,\n",
       " 'language': 30,\n",
       " 'great': 25,\n",
       " 'design': 17,\n",
       " 'functionality': 24,\n",
       " 'newly launched': 46,\n",
       " 'launched podium': 34,\n",
       " 'podium level': 51,\n",
       " 'level amenities': 37,\n",
       " 'amenities speak': 4,\n",
       " 'speak language': 57,\n",
       " 'language great': 31,\n",
       " 'great design': 26,\n",
       " 'design functionality': 18,\n",
       " 'newly launched podium': 47,\n",
       " 'launched podium level': 35,\n",
       " 'podium level amenities': 52,\n",
       " 'level amenities speak': 38,\n",
       " 'amenities speak language': 5,\n",
       " 'speak language great': 58,\n",
       " 'language great design': 32,\n",
       " 'great design functionality': 27,\n",
       " 'like': 39,\n",
       " 'high': 29,\n",
       " 'world': 69,\n",
       " 'mumbai': 41,\n",
       " 'expressway': 21,\n",
       " 'connected': 14,\n",
       " 'form': 23,\n",
       " 'pools': 53,\n",
       " 'urban': 64,\n",
       " 'space': 54,\n",
       " 'creator': 16,\n",
       " 'flats': 22,\n",
       " 'mumbai expressway': 42,\n",
       " 'swimming pools': 60,\n",
       " 'urban space': 65,\n",
       " 'space creator': 55,\n",
       " 'urban space creator': 66,\n",
       " 'construction': 15,\n",
       " 'nestled': 44,\n",
       " 'amongst': 6,\n",
       " 'etc': 20}"
      ]
     },
     "execution_count": 23,
     "metadata": {},
     "output_type": "execute_result"
    }
   ],
   "source": [
    "ngram_vectorc.vocabulary_"
   ]
  },
  {
   "cell_type": "code",
   "execution_count": 24,
   "id": "37a648e1",
   "metadata": {},
   "outputs": [
    {
     "data": {
      "text/plain": [
       "(16, 70)"
      ]
     },
     "execution_count": 24,
     "metadata": {},
     "output_type": "execute_result"
    }
   ],
   "source": [
    "ngram_X.shape"
   ]
  },
  {
   "cell_type": "code",
   "execution_count": 25,
   "id": "8193445d",
   "metadata": {},
   "outputs": [
    {
     "data": {
      "text/plain": [
       "array([[0, 0, 0, ..., 0, 0, 0],\n",
       "       [0, 0, 0, ..., 0, 0, 0],\n",
       "       [1, 1, 0, ..., 0, 0, 0],\n",
       "       ...,\n",
       "       [1, 0, 1, ..., 0, 0, 0],\n",
       "       [1, 1, 0, ..., 0, 0, 0],\n",
       "       [0, 0, 0, ..., 0, 0, 0]], dtype=int64)"
      ]
     },
     "execution_count": 25,
     "metadata": {},
     "output_type": "execute_result"
    }
   ],
   "source": [
    "ngram_X_array=ngram_X.toarray()\n",
    "ngram_X_array"
   ]
  },
  {
   "cell_type": "code",
   "execution_count": 26,
   "id": "1c1fa32b",
   "metadata": {},
   "outputs": [
    {
     "data": {
      "text/plain": [
       "array([1, 0, 0, 1, 1, 1, 0, 0, 0, 0, 0, 0, 0, 0, 0, 0, 0, 1, 1, 0, 0, 0,\n",
       "       0, 0, 1, 1, 1, 1, 0, 0, 1, 1, 1, 1, 1, 1, 1, 1, 1, 0, 0, 0, 0, 0,\n",
       "       1, 1, 1, 1, 0, 0, 1, 1, 1, 0, 0, 0, 1, 1, 1, 0, 0, 0, 0, 1, 0, 0,\n",
       "       0, 0, 0, 0], dtype=int64)"
      ]
     },
     "execution_count": 26,
     "metadata": {},
     "output_type": "execute_result"
    }
   ],
   "source": [
    "ngram_X_array[11]"
   ]
  },
  {
   "cell_type": "code",
   "execution_count": 27,
   "id": "61c38003",
   "metadata": {},
   "outputs": [
    {
     "data": {
      "text/plain": [
       "array(['also', 'also comes', 'also offers', 'amenities',\n",
       "       'amenities speak', 'amenities speak language', 'amongst', 'area',\n",
       "       'bhk', 'churches', 'clubhouse', 'comes', 'community',\n",
       "       'community also', 'connected', 'construction', 'creator', 'design',\n",
       "       'design functionality', 'environment', 'etc', 'expressway',\n",
       "       'flats', 'form', 'functionality', 'great', 'great design',\n",
       "       'great design functionality', 'gym', 'high', 'language',\n",
       "       'language great', 'language great design', 'launched',\n",
       "       'launched podium', 'launched podium level', 'level',\n",
       "       'level amenities', 'level amenities speak', 'like', 'located',\n",
       "       'mumbai', 'mumbai expressway', 'near', 'nestled', 'newly',\n",
       "       'newly launched', 'newly launched podium', 'offering', 'offers',\n",
       "       'podium', 'podium level', 'podium level amenities', 'pools',\n",
       "       'space', 'space creator', 'speak', 'speak language',\n",
       "       'speak language great', 'swimming', 'swimming pools', 'temples',\n",
       "       'temples churches', 'township', 'urban', 'urban space',\n",
       "       'urban space creator', 'vanaha', 'vanaha township', 'world'],\n",
       "      dtype=object)"
      ]
     },
     "execution_count": 27,
     "metadata": {},
     "output_type": "execute_result"
    }
   ],
   "source": [
    "ngram_vectorc.get_feature_names_out()"
   ]
  },
  {
   "cell_type": "code",
   "execution_count": 28,
   "id": "9b6c9b59",
   "metadata": {},
   "outputs": [],
   "source": [
    "test = [\n",
    " ['Greetings:Hello. I am Dexter. I will serve your leave enquiries.'],\n",
    " ['Morning:Good Morning. I am Dexter. I will serve your leave enquiries.'],\n",
    " ['Afternoon:Good afternoon. I am Dexter. I will serve your leave enquiries.'],\n",
    " ['Evening:Good evening. I am Dexter. I will serve your leave enquiries.'],\n",
    " ['Goodbye:Good night. Take care.'],\n",
    " ['Opening:I\"m fine! Thank you. How can I help you?'],\n",
    " ['Help:How can I help you?'],\n",
    " ['No-Help:Ok sir/madam. No problem. Have a nice day.'],\n",
    " [\"Closing:It's glad to know that I have been helpful. Have a good day!\"],\n",
    " ['Leaves-Type:Currently I know about two: annual and optional leaves.'],\n",
    " ['Default-Utilized-Annual-Leaves:You have used 12 annual leaves.'],\n",
    " ['Utilized-Annual-Leaves:You have taken 12 annual leaves.'],\n",
    " ['Utilized-Optional-Leaves:You have taken 1 optional leaves.'],\n",
    " ['Default-Balance-Annual-Leaves:You have 25 annual leaves left.'],\n",
    " ['Balance-Annual-Leaves:You have 25 annual leaves remaining.'],\n",
    " ['Balance-Optional-Leaves:You have 2 optional leaves remaining.'],\n",
    " ['CF:You have 30 carry forward leaves.']]"
   ]
  },
  {
   "cell_type": "code",
   "execution_count": 29,
   "id": "0851c29d",
   "metadata": {},
   "outputs": [
    {
     "data": {
      "text/plain": [
       "[['Balance-Annual-Leaves:You have 25 annual leaves remaining.'],\n",
       " ['Default-Balance-Annual-Leaves:You have 25 annual leaves left.'],\n",
       " ['Evening:Good evening. I am Dexter. I will serve your leave enquiries.'],\n",
       " ['Afternoon:Good afternoon. I am Dexter. I will serve your leave enquiries.'],\n",
       " ['Morning:Good Morning. I am Dexter. I will serve your leave enquiries.'],\n",
       " ['Utilized-Annual-Leaves:You have taken 12 annual leaves.'],\n",
       " ['Leaves-Type:Currently I know about two: annual and optional leaves.'],\n",
       " [\"Closing:It's glad to know that I have been helpful. Have a good day!\"],\n",
       " ['CF:You have 30 carry forward leaves.'],\n",
       " ['Greetings:Hello. I am Dexter. I will serve your leave enquiries.'],\n",
       " ['Help:How can I help you?'],\n",
       " ['Goodbye:Good night. Take care.'],\n",
       " ['No-Help:Ok sir/madam. No problem. Have a nice day.'],\n",
       " ['Balance-Optional-Leaves:You have 2 optional leaves remaining.'],\n",
       " ['Opening:I\"m fine! Thank you. How can I help you?'],\n",
       " ['Utilized-Optional-Leaves:You have taken 1 optional leaves.'],\n",
       " ['Default-Utilized-Annual-Leaves:You have used 12 annual leaves.']]"
      ]
     },
     "execution_count": 29,
     "metadata": {},
     "output_type": "execute_result"
    }
   ],
   "source": [
    "random.shuffle(test)\n",
    "test"
   ]
  },
  {
   "cell_type": "code",
   "execution_count": null,
   "id": "4cebc861",
   "metadata": {},
   "outputs": [],
   "source": []
  }
 ],
 "metadata": {
  "kernelspec": {
   "display_name": "Python 3 (ipykernel)",
   "language": "python",
   "name": "python3"
  },
  "language_info": {
   "codemirror_mode": {
    "name": "ipython",
    "version": 3
   },
   "file_extension": ".py",
   "mimetype": "text/x-python",
   "name": "python",
   "nbconvert_exporter": "python",
   "pygments_lexer": "ipython3",
   "version": "3.10.9"
  }
 },
 "nbformat": 4,
 "nbformat_minor": 5
}
