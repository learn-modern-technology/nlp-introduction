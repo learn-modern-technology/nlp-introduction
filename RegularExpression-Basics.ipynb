{
 "cells": [
  {
   "cell_type": "markdown",
   "id": "68b57b74",
   "metadata": {},
   "source": [
    "# How to Use Regular Expressions in Python"
   ]
  },
  {
   "cell_type": "markdown",
   "id": "9f4839ce",
   "metadata": {},
   "source": [
    "### Here’s a complete list of the metacharacters used for Regular Expressions:\n",
    "<br>   \n",
    "\n",
    ".  ^   $   *   +   ?   {   }   [   ]   \\   |   (   )"
   ]
  },
  {
   "cell_type": "markdown",
   "id": "c5cdf8cc",
   "metadata": {},
   "source": [
    "1. [ and ]. They’re used for specifying a character class, which is a set of characters that you wish to match. Characters can be listed individually, or a range of characters can be indicated by giving two characters and separating them by a '-'. For example, [abc] will match any of the characters a, b, or c; this is the same as [a-c]\n",
    "<br>\n",
    "\n",
    "2. If you wanted to match only lowercase letters, your RE would be [a-z]\n",
    "<br>\n",
    "\n",
    "3. All metacharacters except \\ (back slash) are not active inside classes. Classes refers to \"[ ]\". For example, \"[akm*]\" will match any of the characters 'a', 'k', 'm', or ' * '. ' * ' is usually a metacharacter, but inside a character class it’s stripped of its special nature\n",
    "<br>\n",
    "\n",
    "4. You can match the characters not listed within the class by complementing the set. This is indicated by including a '^' as the first character of the class. For example, [^5] will match any character except '5'. \n",
    "<br>\n",
    "\n",
    "5. If the caret appears elsewhere in a character class, it does not have special meaning. For example: [5^] will match either a '5' or a '^'."
   ]
  },
  {
   "cell_type": "code",
   "execution_count": 6,
   "id": "6c721ad8",
   "metadata": {},
   "outputs": [
    {
     "name": "stdout",
     "output_type": "stream",
     "text": [
      "Regular Expression of [bcd] will show ['d', 'b', 'b']\n",
      "\n",
      "Regular Expression of [a-zA-Z] will show ['M', 'y', 'n', 'a', 'm', 'e', 'i', 's', 'K', 'h', 'a', 'n', 'a', 'n', 'd', 'I', 'a', 'm', 'n', 'o', 't', 'a', 't', 'e', 'r', 'r', 'o', 'r', 'i', 's', 't', 'M', 'y', 'b', 'e', 's', 't', 'n', 'u', 'm', 'b', 'e', 'r', 'i', 's', '7', '8']\n",
      "\n",
      "Regular Expression of [^a-zA-Z] will show [' ', ' ', ' ', ' ', ' ', ' ', ' ', ' ', ' ', '.', ' ', ' ', ' ', ' ', ' ', '7', '8', '.']\n"
     ]
    }
   ],
   "source": [
    "import re\n",
    "\n",
    "txt = \"My name is Khan and I am not a terrorist. My best number is 78.\"\n",
    "\n",
    "x = re.findall(\"[bcd]\", txt)\n",
    "print(f'Regular Expression of [bcd] will show {x}')\n",
    "\n",
    "x = re.findall(\"[a-zA-Z]\", txt)\n",
    "print(f'\\nRegular Expression of [a-zA-Z] will show {x}')\n",
    "\n",
    "x = re.findall(\"[^a-zA-Z]\", txt)\n",
    "print(f'\\nRegular Expression of [^a-zA-Z] will show {x}')"
   ]
  },
  {
   "cell_type": "markdown",
   "id": "426d10aa",
   "metadata": {},
   "source": [
    "6. In Python string literals, the backslash can be followed by various characters to signal various special sequences\n",
    "<br>\n",
    "\n",
    "7. It is also used to escape all the metacharacters so you can still match them in patterns; for example, if you need to match a [ or \\, you can precede them with a backslash to remove their special meaning: \"\\ [\" or \"\\ \\ \".\n",
    "<br>\n"
   ]
  },
  {
   "cell_type": "markdown",
   "id": "3469f88c",
   "metadata": {},
   "source": [
    "8. Some of the special sequences beginning with '\\' represent predefined sets of characters that are often useful, such as the set of digits, the set of letters, or the set of anything that isn’t whitespace\n",
    "\n",
    " - \\d - Matches any decimal digit; this is equivalent to the class [0-9].   \n",
    " <br>   \n",
    " \n",
    " - \\D - Matches any non-digit character; this is equivalent to the class [^0-9].  \n",
    " <br>   \n",
    " - \\s - Matches any whitespace character; this is equivalent to the class [ \\t\\n\\r\\f\\v].  \n",
    " <br>    \n",
    " - \\S - Matches any non-whitespace character; this is equivalent to the class [^ \\t\\n\\r\\f\\v].  \n",
    " <br>   \n",
    " - \\w - Matches any alphanumeric character; this is equivalent to the class [a-zA-Z0-9_].  \n",
    " <br>   \n",
    " - \\W - Matches any non-alphanumeric character; this is equivalent to the class [^a-zA-Z0-9_]"
   ]
  },
  {
   "cell_type": "code",
   "execution_count": 11,
   "id": "9fe2d9af",
   "metadata": {},
   "outputs": [
    {
     "name": "stdout",
     "output_type": "stream",
     "text": [
      "\n",
      "Regular Expression of [a-zA-Z ] will show ['M', 'y', ' ', 'n', 'a', 'm', 'e', ' ', 'i', 's', ' ', 'K', 'h', 'a', 'n', ' ', 'a', 'n', 'd', ' ', 'I', ' ', 'a', 'm', ' ', 'n', 'o', 't', ' ', 'a', ' ', 't', 'e', 'r', 'r', 'o', 'r', 'i', 's', 't', ' ', 'M', 'y', ' ', 'b', 'e', 's', 't', ' ', 'n', 'u', 'm', 'b', 'e', 'r', ' ', 'i', 's', ' ']\n",
      "\n",
      "Regular Expression of [^a-zA-Z ] will show ['.', '7', '8', '.']\n",
      "\n",
      "Regular Expression of [^a-zA-Z] will show ['M', 'y', 'n', 'a', 'm', 'e', 'i', 's', 'K', 'h', 'a', 'n', 'a', 'n', 'd', 'I', 'a', 'm', 'n', 'o', 't', 'a', 't', 'e', 'r', 'r', 'o', 'r', 'i', 's', 't', 'M', 'y', 'b', 'e', 's', 't', 'n', 'u', 'm', 'b', 'e', 'r', 'i', 's', '7', '8']\n"
     ]
    }
   ],
   "source": [
    "import re\n",
    "\n",
    "txt = \"My name is Khan and I am not a terrorist. My best number is 78.\"\n",
    "\n",
    "x = re.findall(\"[a-zA-Z ]\", txt)\n",
    "print(f'\\nRegular Expression of [a-zA-Z ] will show {x}')\n",
    "\n",
    "x = re.findall(\"[^a-zA-Z ]\", txt)\n",
    "print(f'\\nRegular Expression of [^a-zA-Z ] will show {x}')\n",
    "\n",
    "x = re.findall(\"[a-zA-Z0-9]\", txt)\n",
    "print(f'\\nRegular Expression of [^a-zA-Z] will show {x}')"
   ]
  },
  {
   "cell_type": "markdown",
   "id": "a26d8155",
   "metadata": {},
   "source": [
    "These sequences can be included inside a character class. For example, [\\s,.] is a character class that will match any whitespace character, or ' , ' or ' . '"
   ]
  },
  {
   "cell_type": "markdown",
   "id": "84a4bac5",
   "metadata": {},
   "source": [
    "9. The final metacharacter in this section is '.' .It matches anything except a newline character, and there’s an alternate mode (re.DOTALL) where it will match even a newline. ' . ' is often used where you want to match “any character”"
   ]
  },
  {
   "cell_type": "markdown",
   "id": "fdf9cc4f",
   "metadata": {},
   "source": [
    "### Another capability is that you can specify that portions of the RE must be repeated a certain number of times."
   ]
  },
  {
   "cell_type": "markdown",
   "id": "fced749a",
   "metadata": {},
   "source": [
    "1. ' * ' doesn’t match the literal character ' * '; instead, it specifies that the previous character can be matched zero or more times, instead of exactly once. For example, ca*t will match 'ct' (0 'a' characters), 'cat' (1 'a'), 'caaat' (3 'a' characters), and so forth"
   ]
  },
  {
   "cell_type": "markdown",
   "id": "aa24682d",
   "metadata": {},
   "source": [
    "2. ' * ' doesn’t match the literal character ' * '; instead, it specifies that the previous character can be matched zero or more times, instead of exactly once. For example, ca*t will match 'ct' (0 'a' characters), 'cat' (1 'a'), 'caaat' (3 'a' characters), and so forth"
   ]
  },
  {
   "cell_type": "markdown",
   "id": "05e54ece",
   "metadata": {},
   "source": [
    "1. ' * ' doesn’t match the literal character ' * '; instead, it specifies that the previous character can be matched zero or more times, instead of exactly once. For example, ca*t will match 'ct' (0 'a' characters), 'cat' (1 'a'), 'caaat' (3 'a' characters), and so forth"
   ]
  },
  {
   "cell_type": "markdown",
   "id": "582d8d8a",
   "metadata": {},
   "source": [
    "1. ' * ' doesn’t match the literal character ' * '; instead, it specifies that the previous character can be matched zero or more times, instead of exactly once. For example, ca*t will match 'ct' (0 'a' characters), 'cat' (1 'a'), 'caaat' (3 'a' characters), and so forth"
   ]
  },
  {
   "cell_type": "code",
   "execution_count": 20,
   "id": "81ab9578",
   "metadata": {},
   "outputs": [
    {
     "name": "stdout",
     "output_type": "stream",
     "text": [
      "\n",
      "Regular Expression of [a-zA-Z ] will show ['M', 'y', ' ', 'n', 'a', 'm', 'e', ' ', 'i', 's', ' ', 'K', 'h', 'a', 'n', ' ', 'a', 'n', 'd', ' ', 'I', ' ', 'a', 'm', ' ', 'n', 'o', 't', ' ', 'a', ' ', 't', 'e', 'r', 'r', 'o', 'r', 'i', 's', 't', ' ', ' ', ' ', ' ', ' ', ' ', ' ', 'M', 'y', ' ', 'b', 'e', 's', 't', ' ', 'n', 'u', 'm', 'b', 'e', 'r', ' ', 'i', 's', ' ']\n",
      "\n",
      "Regular Expression of [^a-zA-Z ] will show [' ', ' ', ' ', ' ', ' ', ' ', ' ', ' ', ' ', '.', '\\n', ' ', ' ', ' ', ' ', ' ', ' ', ' ', ' ', ' ', ' ', ' ', '7', '8', '.']\n",
      "\n",
      "Regular Expression of [a-zA-Z0-9] will show ['M', 'y', 'n', 'a', 'm', 'e', 'i', 's', 'K', 'h', 'a', 'n', 'a', 'n', 'd', 'I', 'a', 'm', 'n', 'o', 't', 'a', 't', 'e', 'r', 'r', 'o', 'r', 'i', 's', 't', 'M', 'y', 'b', 'e', 's', 't', 'n', 'u', 'm', 'b', 'e', 'r', 'i', 's', '7', '8']\n"
     ]
    }
   ],
   "source": [
    "import re\n",
    "\n",
    "txt = '''My name is Khan and I am not a terrorist.\n",
    "       My best number is 78.'''\n",
    "\n",
    "x = re.findall(\"[a-zA-Z ]\", txt)\n",
    "print(f'\\nRegular Expression of [a-zA-Z ] will show {x}')\n",
    "\n",
    "x = re.findall(\"[^a-zA-Z]\", txt)\n",
    "print(f'\\nRegular Expression of [^a-zA-Z ] will show {x}')\n",
    "\n",
    "x = re.findall(\"[a-zA-Z0-9]\", txt)\n",
    "print(f'\\nRegular Expression of [a-zA-Z0-9] will show {x}')"
   ]
  },
  {
   "cell_type": "code",
   "execution_count": 61,
   "id": "1307e2b4",
   "metadata": {},
   "outputs": [
    {
     "name": "stdout",
     "output_type": "stream",
     "text": [
      "\n",
      "Regular Expression of [-+] will show ['3', '2']\n",
      "\n",
      "Regular Expression of [^a-zA-Z ] will show ['2.5']\n",
      "\n",
      "Regular Expression of [a-zA-Z0-9] will show ['5']\n"
     ]
    }
   ],
   "source": [
    "## re.compile(r\"[-+]?(\\d*\\.\\d+|\\d+)\")\n",
    "import re\n",
    "\n",
    "txt1 = '3+2bhk'\n",
    "txt2 = '2.5 bhk'\n",
    "txt3 = '5BHK'\n",
    "\n",
    "x1 = re.findall(r\"(\\d+)\", txt1)\n",
    "print(f'\\nRegular Expression of [-+] will show {x1}')\n",
    "\n",
    "x2 = re.findall(r\"[-+]?(\\d\\.\\d+)\", txt2)\n",
    "print(f'\\nRegular Expression of [^a-zA-Z ] will show {x2}')\n",
    "\n",
    "x3 = re.findall(r\"(\\d)\", txt3)\n",
    "print(f'\\nRegular Expression of [a-zA-Z0-9] will show {x3}')"
   ]
  },
  {
   "cell_type": "code",
   "execution_count": 66,
   "id": "e196ce1f",
   "metadata": {},
   "outputs": [
    {
     "name": "stdout",
     "output_type": "stream",
     "text": [
      "Pune\n",
      "Maharashtra\n",
      "India\n"
     ]
    }
   ],
   "source": [
    "text = 'Pune, Maharashtra, India'\n",
    "print(text.split(',')[0].strip())\n",
    "print(text.split(',')[1].strip())\n",
    "print(text.split(',')[2].strip())"
   ]
  },
  {
   "cell_type": "code",
   "execution_count": null,
   "id": "44e2fd76",
   "metadata": {},
   "outputs": [],
   "source": []
  }
 ],
 "metadata": {
  "kernelspec": {
   "display_name": "Python 3 (ipykernel)",
   "language": "python",
   "name": "python3"
  },
  "language_info": {
   "codemirror_mode": {
    "name": "ipython",
    "version": 3
   },
   "file_extension": ".py",
   "mimetype": "text/x-python",
   "name": "python",
   "nbconvert_exporter": "python",
   "pygments_lexer": "ipython3",
   "version": "3.10.9"
  }
 },
 "nbformat": 4,
 "nbformat_minor": 5
}
