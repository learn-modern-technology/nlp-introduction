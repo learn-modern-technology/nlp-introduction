{
 "cells": [
  {
   "cell_type": "markdown",
   "id": "c569d7b8",
   "metadata": {},
   "source": [
    "## Basic-Part-of-Speech Using NLP"
   ]
  },
  {
   "cell_type": "code",
   "execution_count": 3,
   "id": "45fad05a",
   "metadata": {},
   "outputs": [],
   "source": [
    "import re\n",
    "from wordcloud import WordCloud\n",
    "import nltk\n",
    "from nltk.corpus import stopwords\n",
    "from sklearn.feature_extraction.text import CountVectorizer\n",
    "from collections import Counter"
   ]
  },
  {
   "cell_type": "code",
   "execution_count": 12,
   "id": "ec74bdc9",
   "metadata": {},
   "outputs": [
    {
     "name": "stderr",
     "output_type": "stream",
     "text": [
      "[nltk_data] Downloading package averaged_perceptron_tagger to\n",
      "[nltk_data]     C:\\Users\\Sudhanshu\\AppData\\Roaming\\nltk_data...\n",
      "[nltk_data]   Unzipping taggers\\averaged_perceptron_tagger.zip.\n"
     ]
    },
    {
     "data": {
      "text/plain": [
       "True"
      ]
     },
     "execution_count": 12,
     "metadata": {},
     "output_type": "execute_result"
    }
   ],
   "source": [
    "#nltk.download('averaged_perceptron_tagger')"
   ]
  },
  {
   "cell_type": "code",
   "execution_count": 5,
   "id": "535d9764",
   "metadata": {},
   "outputs": [],
   "source": [
    "# Setting up stopwords for Text Processing\n",
    "stopwords_list = set(stopwords.words('english'))\n",
    "\n",
    "#Custom Stoplist\n",
    "custome_stopwords= [\"i\",\"project\",\"living\",\"home\",'apartment',\"pune\",\"me\",\"my\",\"myself\",\"we\",\"our\",\"ours\",\"ourselves\",\"you\",\n",
    "                  \"you're\",\"you've\",\"you'll\",\"you'd\",\"your\",\"yours\",\"yourself\",\"yourselves\",\"he\",\"him\",\"his\",\"himself\",\"she\",\n",
    "                  \"she's\",\"her\",\"hers\",\"herself\",\"it\",\"it's\",\"its\",\"itself\",\"they\",\"them\",\"their\",\"theirs\",\"themselves\",\n",
    "                  \"what\",\"which\",\"who\",\"whom\",\"this\",\"that\",\"that'll\",\"these\",\"those\",\"am\",\"is\",\"are\",\"was\",\"were\",\"be\",\"been\",\n",
    "                  \"being\",\"have\",\"has\",\"had\",\"having\",\"do\",\"does\",\"did\",\"doing\",\"a\",\"an\",\"the\",\"and\",\"but\",\"if\",\"or\",\"because\",\n",
    "                  \"as\",\"until\",\"while\",\"of\",\"at\",\"by\",\"for\",\"with\",\"about\",\"against\",\"between\",\"into\",\"through\",\"during\",\n",
    "                  \"before\",\"after\",\"above\",\"below\",\"to\",\"from\",\"up\",\"down\",\"in\",\"out\",\"on\",\"off\",\"over\",\"under\",\"again\",\n",
    "                  \"further\",\"then\",\"once\",\"here\",\"there\",\"when\",\"where\",\"why\",\"all\",\"any\",\"both\",\"each\",\"few\",\"more\",\"most\",\n",
    "                  \"other\",\"some\",\"such\",\"no\",\"nor\",\"not\",\"only\",\"own\",\"same\",\"so\",\"than\",\"too\",\"very\",\"s\",\"t\",\"can\",\"will\",\n",
    "                  \"just\",\"don\",\"don't\",\"should\",\"should've\",\"now\",\"d\",\"ll\",\"m\",\"o\",\"re\",\"ve\",\"y\",\"ain\",\n",
    "                  \"aren\",\"couldn\",\"didn\",\"doesn\",\"hadn\",\"hasn\",\"haven\",\"isn\",\"ma\",\"mightn\",\"mustn\",\"needn\",\"shan\",\"shan't\",\n",
    "                  \"shouldn\",\"wasn\",\"weren\",\"won\",\"rt\",\"rt\",\"qt\",\"for\",\"the\",\"with\",\"in\",\"of\",\"and\",\"its\",\"it\",\"this\",\"i\",\n",
    "                  \"have\",\"has\",\"would\",\"could\",\"you\",\"a\",\"an\",\"be\",\"am\",\"can\",\"edushopper\",\"will\",\"to\",\"on\",\"is\",\"by\",\"ive\",\n",
    "                  \"im\",\"your\",\"we\",\"are\",\"at\",\"as\",\"any\",\"ebay\",\"thank\",\"hello\",\"know\",\"need\",\"want\",\"look\",\"hi\",\"sorry\",\n",
    "                  \"http\", \"https\",\"body\",\"dear\",\"hello\",\"hi\",\"thanks\",\"sir\",\"tomorrow\",\"sent\",\"send\",\"see\",\"there\",\"welcome\",\n",
    "                  \"what\",\"well\",\"us\"]\n",
    "\n",
    "stopwords_list.update(custome_stopwords)"
   ]
  },
  {
   "cell_type": "code",
   "execution_count": 9,
   "id": "87e38f35",
   "metadata": {},
   "outputs": [
    {
     "data": {
      "text/plain": [
       "['Shapoorji Paloonji comunity located in the suburbs of Bavadhan locality is situated in a pleasant environment around.',\n",
       " 'This 1BHK property comes with a swimming pool and parking facilty in the community.',\n",
       " 'It also comes with temples and Churches near by for devotional purposes']"
      ]
     },
     "execution_count": 9,
     "metadata": {},
     "output_type": "execute_result"
    }
   ],
   "source": [
    "text = \"Shapoorji Paloonji comunity located in the suburbs of Bavadhan locality is situated in a pleasant environment around. This 1BHK property comes with a swimming pool and parking facilty in the community. It also comes with temples and Churches near by for devotional purposes\"\n",
    "sent_tok = nltk.sent_tokenize(text)\n",
    "sent_tok"
   ]
  },
  {
   "cell_type": "code",
   "execution_count": 6,
   "id": "7a75b701",
   "metadata": {},
   "outputs": [
    {
     "name": "stdout",
     "output_type": "stream",
     "text": [
      "['Shapoorji', 'Paloonji', 'comunity', 'located', 'in', 'the', 'suburbs', 'of', 'Bavadhan', 'locality', 'is', 'situated', 'in', 'a', 'pleasant', 'environment', 'around', '.', 'This', '1BHK', 'property', 'comes', 'with', 'a', 'swimming', 'pool', 'and', 'parking', 'facilty', 'in', 'the', 'community', '.', 'It', 'also', 'comes', 'with', 'temples', 'and', 'Churches', 'near', 'by', 'for', 'devotional', 'purposes']\n"
     ]
    }
   ],
   "source": [
    "text = \"Shapoorji Paloonji comunity located in the suburbs of Bavadhan locality is situated in a pleasant environment around. This 1BHK property comes with a swimming pool and parking facilty in the community. It also comes with temples and Churches near by for devotional purposes\"\n",
    "tok = nltk.word_tokenize(text)\n",
    "print(tok)"
   ]
  },
  {
   "cell_type": "code",
   "execution_count": 7,
   "id": "a3ea4eb6",
   "metadata": {},
   "outputs": [
    {
     "name": "stdout",
     "output_type": "stream",
     "text": [
      "['Shapoorji', 'Paloonji', 'comunity', 'located', 'suburbs', 'Bavadhan', 'locality', 'situated', 'pleasant', 'environment', 'around', '.', 'This', '1BHK', 'property', 'comes', 'swimming', 'pool', 'parking', 'facilty', 'community', '.', 'It', 'also', 'comes', 'temples', 'Churches', 'near', 'devotional', 'purposes']\n"
     ]
    }
   ],
   "source": [
    "tok_remove_stop_words = [word for word in tok if word not in stopwords_list]\n",
    "print(tok_remove_stop_words)"
   ]
  },
  {
   "cell_type": "code",
   "execution_count": 13,
   "id": "c89c63e5",
   "metadata": {},
   "outputs": [
    {
     "name": "stdout",
     "output_type": "stream",
     "text": [
      "[('Shapoorji', 'NNP'), ('Paloonji', 'NNP'), ('comunity', 'NN'), ('located', 'VBN'), ('suburbs', 'NNS'), ('Bavadhan', 'NNP'), ('locality', 'NN'), ('situated', 'VBD'), ('pleasant', 'JJ'), ('environment', 'NN'), ('around', 'RB'), ('.', '.'), ('This', 'DT'), ('1BHK', 'CD'), ('property', 'NN'), ('comes', 'VBZ'), ('swimming', 'VBG'), ('pool', 'NN'), ('parking', 'VBG'), ('facilty', 'NN'), ('community', 'NN'), ('.', '.'), ('It', 'PRP'), ('also', 'RB'), ('comes', 'VBZ'), ('temples', 'NNS'), ('Churches', 'NNP'), ('near', 'IN'), ('devotional', 'JJ'), ('purposes', 'NNS')]\n"
     ]
    }
   ],
   "source": [
    "tags = nltk.pos_tag(nltk.Text(tok_remove_stop_words))\n",
    "print(tags)"
   ]
  },
  {
   "cell_type": "code",
   "execution_count": 14,
   "id": "c27bc1d5",
   "metadata": {},
   "outputs": [],
   "source": [
    "counts = Counter(tag for word,tag in tags)"
   ]
  },
  {
   "cell_type": "code",
   "execution_count": 16,
   "id": "7f03964c",
   "metadata": {},
   "outputs": [
    {
     "data": {
      "text/plain": [
       "[('NN', 7), ('NNP', 4), ('NNS', 3), ('JJ', 2), ('RB', 2)]"
      ]
     },
     "execution_count": 16,
     "metadata": {},
     "output_type": "execute_result"
    }
   ],
   "source": [
    "counts.most_common(5)"
   ]
  },
  {
   "cell_type": "code",
   "execution_count": 17,
   "id": "938dca70",
   "metadata": {},
   "outputs": [
    {
     "data": {
      "text/plain": [
       "7"
      ]
     },
     "execution_count": 17,
     "metadata": {},
     "output_type": "execute_result"
    }
   ],
   "source": [
    "counts['NN']"
   ]
  }
 ],
 "metadata": {
  "kernelspec": {
   "display_name": "Python 3 (ipykernel)",
   "language": "python",
   "name": "python3"
  },
  "language_info": {
   "codemirror_mode": {
    "name": "ipython",
    "version": 3
   },
   "file_extension": ".py",
   "mimetype": "text/x-python",
   "name": "python",
   "nbconvert_exporter": "python",
   "pygments_lexer": "ipython3",
   "version": "3.10.9"
  }
 },
 "nbformat": 4,
 "nbformat_minor": 5
}
